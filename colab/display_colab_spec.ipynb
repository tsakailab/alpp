{
  "nbformat": 4,
  "nbformat_minor": 0,
  "metadata": {
    "colab": {
      "name": "display_colab_spec.ipynb",
      "provenance": [],
      "collapsed_sections": [],
      "authorship_tag": "ABX9TyPsy3FISKCJERPhb8KjIC2V",
      "include_colab_link": true
    },
    "kernelspec": {
      "name": "python3",
      "display_name": "Python 3"
    },
    "language_info": {
      "name": "python"
    },
    "accelerator": "GPU"
  },
  "cells": [
    {
      "cell_type": "markdown",
      "metadata": {
        "id": "view-in-github",
        "colab_type": "text"
      },
      "source": [
        "<a href=\"https://colab.research.google.com/github/tsakailab/iip/blob/main/colab/display_colab_spec.ipynb\" target=\"_parent\"><img src=\"https://colab.research.google.com/assets/colab-badge.svg\" alt=\"Open In Colab\"/></a>"
      ]
    },
    {
      "cell_type": "code",
      "metadata": {
        "cellView": "form",
        "id": "Tq2Dsx5tW2cj"
      },
      "source": [
        "#@title CPU名\n",
        "!lscpu |grep 'Model name'"
      ],
      "execution_count": null,
      "outputs": []
    },
    {
      "cell_type": "code",
      "metadata": {
        "cellView": "form",
        "id": "ioKU_imLW7s4"
      },
      "source": [
        "#@title CPUの仕様\n",
        "!cat /proc/cpuinfo"
      ],
      "execution_count": null,
      "outputs": []
    },
    {
      "cell_type": "code",
      "metadata": {
        "cellView": "form",
        "id": "temV0RdgXF1B"
      },
      "source": [
        "#@title 利用可能な[NVIDIA](https://developer.nvidia.com/)の[GPU](https://ja.wikipedia.org/wiki/NVIDIA)\n",
        "import torch\n",
        "device = torch.device('cpu')\n",
        "if torch.cuda.is_available():\n",
        "    device = torch.device('cuda')\n",
        "    print(torch.cuda.get_device_name(torch.cuda.current_device()))\n",
        "    !/usr/local/cuda/bin/nvcc --version\n",
        "    !nvidia-smi\n",
        "else:\n",
        "    print('None')"
      ],
      "execution_count": null,
      "outputs": []
    },
    {
      "cell_type": "code",
      "metadata": {
        "id": "IaNxue_tXGip"
      },
      "source": [
        "#@title インストールされているPythonのパッケージ一覧\n",
        "!pip list"
      ],
      "execution_count": null,
      "outputs": []
    },
    {
      "cell_type": "markdown",
      "source": [
        "閉じる前に，実行中のjupyterカーネルとメモリを自動的に解放するには・・・"
      ],
      "metadata": {
        "id": "-WEXy955VdGp"
      }
    },
    {
      "cell_type": "code",
      "source": [
        "import os, signal\n",
        "os.kill(os.getpid(), signal.SIGKILL)"
      ],
      "metadata": {
        "id": "QTwMrn4PVY3-"
      },
      "execution_count": null,
      "outputs": []
    }
  ]
}