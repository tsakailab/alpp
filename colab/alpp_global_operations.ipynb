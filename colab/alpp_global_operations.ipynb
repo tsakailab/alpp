{
  "nbformat": 4,
  "nbformat_minor": 0,
  "metadata": {
    "colab": {
      "provenance": [],
      "collapsed_sections": [
        "SNRgL3LYH55E"
      ],
      "toc_visible": true,
      "include_colab_link": true
    },
    "kernelspec": {
      "name": "python3",
      "display_name": "Python 3"
    },
    "language_info": {
      "name": "python"
    }
  },
  "cells": [
    {
      "cell_type": "markdown",
      "metadata": {
        "id": "view-in-github",
        "colab_type": "text"
      },
      "source": [
        "<a href=\"https://colab.research.google.com/github/tsakailab/alpp/blob/main/colab/alpp_global_operations.ipynb\" target=\"_parent\"><img src=\"https://colab.research.google.com/assets/colab-badge.svg\" alt=\"Open In Colab\"/></a>"
      ]
    },
    {
      "cell_type": "markdown",
      "metadata": {
        "id": "_sa4eJMWsduW"
      },
      "source": [
        "# Global Image Transformation<br>大域的な画像変換\n",
        "\n",
        "Processing of an entire image, such as scaling, rotation, and color transformation, is used for **data augmentation**, which pseudo-increases the size of the image data set.\n",
        "\n",
        "拡大・縮小，回転，色の変換など，画像全体に対する処理は，画像のデータ集合の規模を疑似的に大きくする**データ拡張（data augmentation）**に用いられます．\n",
        "\n",
        "|Original|Similarity|Rotation|Affine|\n",
        "|-|-|-|-|\n",
        "|![](https://upload.wikimedia.org/wikipedia/commons/e/ef/France_identique.gif)|![](https://upload.wikimedia.org/wikipedia/commons/6/64/France_par_rotation_180deg.gif)|![](https://upload.wikimedia.org/wikipedia/commons/4/47/France_par_similitude.gif)|![](https://upload.wikimedia.org/wikipedia/commons/thumb/1/10/France_affine_%281%29.gif/240px-France_affine_%281%29.gif)\n",
        "\n"
      ]
    },
    {
      "cell_type": "markdown",
      "metadata": {
        "id": "SNRgL3LYH55E"
      },
      "source": [
        "## First, let's try global image transformations on a small gray-scale image.<br>まずは小さな濃淡画像で試します．"
      ]
    },
    {
      "cell_type": "code",
      "metadata": {
        "cellView": "form",
        "id": "WYMgZSS6pT93"
      },
      "source": [
        "#@title Loads MNIST, the handwritten digit dataset.<br>手書き数字データセットMNISTを読み込みます．\n",
        "#For simplicity, use the files provided in `sample_data` folder in Google Colaboratory. <br>簡単のため，colabにsample_dataフォルダに用意されているファイルを使います．\n",
        "import pandas as pd\n",
        "mnist = pd.read_csv('/content/sample_data/mnist_test.csv', header=None)\n",
        "\n",
        "lbl = mnist.iloc[:,0].to_numpy()\n",
        "imgs = mnist.drop(columns=0).to_numpy().reshape(-1,28,28)\n",
        "print(\"(#images, height, width) =\", imgs.shape)"
      ],
      "execution_count": null,
      "outputs": []
    },
    {
      "cell_type": "code",
      "metadata": {
        "id": "GGzIfh3uneRB"
      },
      "source": [
        "i = 1127"
      ],
      "execution_count": null,
      "outputs": []
    },
    {
      "cell_type": "code",
      "metadata": {
        "id": "Q9JaPMJIBMWa",
        "cellView": "form"
      },
      "source": [
        "#@title Displays the i-th handwritten digit image.<br>i 番目の手書き数字画像を表示します．\n",
        "img = imgs[i]\n",
        "print(\"Showing an image of digit\", lbl[i], \"in shape\", img.shape)\n",
        "\n",
        "import matplotlib.pyplot as plt\n",
        "plt.imshow(img, cmap='gray')\n",
        "plt.show()"
      ],
      "execution_count": null,
      "outputs": []
    },
    {
      "cell_type": "markdown",
      "metadata": {
        "id": "hDKfqe_zRxwm"
      },
      "source": [
        "### Sets up some image transforms by `transforms` in `torchvision`.<br>`torchvision`の`transforms`でいくつかの画像変換を設定します．"
      ]
    },
    {
      "cell_type": "code",
      "metadata": {
        "id": "GS-eHwQIPRNs"
      },
      "source": [
        "import torch\n",
        "from torchvision import transforms\n",
        "transform = transforms.Compose(\n",
        "    [\n",
        "     transforms.RandomRotation((0, 0)),         # transforms.RandomRotation((-180, 180))\n",
        "     transforms.Resize(int(img.shape[1])),      # transforms.Resize(int(target.shape[1]*0.5))\n",
        "     transforms.RandomInvert(p=0.5),              # transforms.RandomInvert(p=1.)\n",
        "     transforms.RandomHorizontalFlip(p=0),      # transforms.RandomHorizontalFlip(p=1)\n",
        "     transforms.RandomVerticalFlip(p=0),        # transforms.RandomVerticalFlip(p=1)\n",
        "     transforms.RandomPerspective(distortion_scale=0.5, p=1.0)  # distortion_scale=1,p=1.0 \n",
        "])\n",
        "print(transform)"
      ],
      "execution_count": null,
      "outputs": []
    },
    {
      "cell_type": "code",
      "metadata": {
        "id": "IaaUsZP5rsQW",
        "cellView": "form"
      },
      "source": [
        "#@title Executes the transforms.<br>画像変換を実行します．out_img = transform(in_img)\n",
        "in_img = torch.tensor(img).unsqueeze(0).float()\n",
        "out_img = transform(in_img)\n",
        "\n",
        "# (n, channels, height, width)\n",
        "print(\"Input: \", type(in_img), in_img.shape)\n",
        "print(\"Output:\", type(out_img), out_img.shape)\n",
        "\n",
        "plt.subplot(1,2,1)\n",
        "plt.title(\"Input (in_img)\")\n",
        "plt.imshow(in_img[0].detach(), cmap='gray')\n",
        "\n",
        "plt.subplot(1,2,2)\n",
        "plt.title(\"Output (out_img)\")\n",
        "plt.imshow(out_img[0].detach(), cmap='gray')\n",
        "plt.show()"
      ],
      "execution_count": null,
      "outputs": []
    },
    {
      "cell_type": "markdown",
      "metadata": {
        "id": "yl0Dlzf1zaDs"
      },
      "source": [
        "## Next, try on a color image.<br>次は，カラー画像で試します．"
      ]
    },
    {
      "cell_type": "code",
      "metadata": {
        "id": "laQIf_Xizkoi"
      },
      "source": [
        "#uri = \"https://upload.wikimedia.org/wikipedia/commons/thumb/1/17/RYB_Color_wheel.png/320px-RYB_Color_wheel.png\"\n",
        "uri = \"http://matlab.izmiran.ru/help/toolbox/images/peppers.jpg\""
      ],
      "execution_count": null,
      "outputs": []
    },
    {
      "cell_type": "code",
      "metadata": {
        "id": "-04kuURVzkod",
        "cellView": "form"
      },
      "source": [
        "#@title Downloads and displays an image.<br>画像をダウンロードして表示します．\n",
        "import imageio\n",
        "cimg = imageio.imread(uri)\n",
        "\n",
        "print(\"(height, width, channels) =\", cimg.shape)\n",
        "\n",
        "import matplotlib.pyplot as plt\n",
        "plt.imshow(cimg)\n",
        "plt.show()"
      ],
      "execution_count": null,
      "outputs": []
    },
    {
      "cell_type": "code",
      "metadata": {
        "id": "8shW2ES2zkoj"
      },
      "source": [
        "import torch\n",
        "from torchvision import transforms\n",
        "\n",
        "# Detailed in https://pytorch.org/vision/stable/transforms.html\n",
        "transform = transforms.Compose(\n",
        "    [\n",
        "     transforms.ColorJitter(\n",
        "         brightness=0, contrast=0, saturation=0.1, hue=(-0.1,0.1)),\n",
        "     transforms.RandomRotation((-20, 20)),         # transforms.RandomRotation((-180, 180))\n",
        "     transforms.Resize((cimg.shape[0], cimg.shape[1])),   # transforms.Resize(int(target.shape[1]*0.5))\n",
        "     transforms.RandomHorizontalFlip(p=0.5),      # transforms.RandomHorizontalFlip(p=1)\n",
        "     transforms.RandomVerticalFlip(p=0),        # transforms.RandomVerticalFlip(p=1)\n",
        "     #transforms.RandomPerspective(distortion_scale=0.5, p=1.0)  # distortion_scale=1,p=1.0 \n",
        "])\n",
        "print(transform)"
      ],
      "execution_count": null,
      "outputs": []
    },
    {
      "cell_type": "code",
      "metadata": {
        "id": "ZtR4aa_lzkoj",
        "cellView": "form"
      },
      "source": [
        "#@title Executes the transforms.<br>画像変換を実行します．out_img = transform(in_img)\n",
        "in_img = torch.tensor(cimg).permute(2,0,1).unsqueeze(0)\n",
        "out_img = transform(in_img)\n",
        "\n",
        "# (n, channels, height, width)\n",
        "print(\"Input: \", type(in_img), in_img.shape)\n",
        "print(\"Output:\", type(out_img), out_img.shape)\n",
        "\n",
        "plt.figure(figsize=(12,24))\n",
        "\n",
        "plt.subplot(1,2,1)\n",
        "plt.title(\"Input (in_img)\")\n",
        "plt.imshow(in_img[0].detach().permute(1,2,0).to(torch.int))\n",
        "\n",
        "plt.subplot(1,2,2)\n",
        "plt.title(\"Output (out_img)\")\n",
        "plt.imshow(out_img[0].detach().permute(1,2,0).to(torch.int))\n",
        "plt.show()"
      ],
      "execution_count": null,
      "outputs": []
    }
  ]
}