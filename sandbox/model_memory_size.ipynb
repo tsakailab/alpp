{
  "nbformat": 4,
  "nbformat_minor": 0,
  "metadata": {
    "colab": {
      "name": "Untitled0.ipynb",
      "provenance": [],
      "authorship_tag": "ABX9TyNIzdAXCLvPItzFZAIrDESI",
      "include_colab_link": true
    },
    "kernelspec": {
      "name": "python3",
      "display_name": "Python 3"
    },
    "language_info": {
      "name": "python"
    },
    "accelerator": "GPU"
  },
  "cells": [
    {
      "cell_type": "markdown",
      "metadata": {
        "id": "view-in-github",
        "colab_type": "text"
      },
      "source": [
        "<a href=\"https://colab.research.google.com/github/tsakailab/iip/blob/main/sandbox/model_memory_size.ipynb\" target=\"_parent\"><img src=\"https://colab.research.google.com/assets/colab-badge.svg\" alt=\"Open In Colab\"/></a>"
      ]
    },
    {
      "cell_type": "code",
      "metadata": {
        "id": "irfdbJZ3aSRq"
      },
      "source": [
        "from torchsummary import summary\n",
        "from torchvision import models\n",
        "import torch\n",
        "device = 'cuda' if torch.cuda.is_available() else 'cpu' \n",
        "vgg = models.vgg16(pretrained=True).features.to(device)\n",
        "# vgg = models.vgg16(pretrained=True).to(device)\n",
        "summary(vgg, (3, 300, 300))"
      ],
      "execution_count": null,
      "outputs": []
    }
  ]
}