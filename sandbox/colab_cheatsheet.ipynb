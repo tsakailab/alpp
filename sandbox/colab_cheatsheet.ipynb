{
  "nbformat": 4,
  "nbformat_minor": 0,
  "metadata": {
    "colab": {
      "name": "Untitled1.ipynb",
      "provenance": [],
      "collapsed_sections": [],
      "authorship_tag": "ABX9TyP47u3U1RCXwGA848ofYmEn",
      "include_colab_link": true
    },
    "kernelspec": {
      "name": "python3",
      "display_name": "Python 3"
    },
    "language_info": {
      "name": "python"
    }
  },
  "cells": [
    {
      "cell_type": "markdown",
      "metadata": {
        "id": "view-in-github",
        "colab_type": "text"
      },
      "source": [
        "<a href=\"https://colab.research.google.com/github/tsakailab/iip/blob/main/sandbox/colab_cheatsheet.ipynb\" target=\"_parent\"><img src=\"https://colab.research.google.com/assets/colab-badge.svg\" alt=\"Open In Colab\"/></a>"
      ]
    },
    {
      "cell_type": "markdown",
      "metadata": {
        "id": "DZM28UhzisgF"
      },
      "source": [
        "画像を貼り付けられます。\n",
        "\n",
        "![](https://upload.wikimedia.org/wikipedia/commons/thumb/1/17/RYB_Color_wheel.png/320px-RYB_Color_wheel.png)"
      ]
    },
    {
      "cell_type": "markdown",
      "metadata": {
        "id": "fbkHinH0joT0"
      },
      "source": [
        "色を変えるには<font color=\"Pink\">ぴんく</font>です\n",
        "\n",
        "\n"
      ]
    },
    {
      "cell_type": "markdown",
      "metadata": {
        "id": "MoqUvPd-kXLr"
      },
      "source": [
        "_itarikku_\n",
        "\n",
        "*itarikku*\n",
        "\n",
        "__hutoji__\n",
        "\n",
        "**hutoji**\n",
        "\n",
        "~~uchikeshi~~\n",
        "\n",
        "`inline`\n",
        "\n",
        "***\n"
      ]
    },
    {
      "cell_type": "markdown",
      "metadata": {
        "id": "tXN2AAwCj-hU"
      },
      "source": [
        "```python\n",
        "import pandas as pd\n",
        "import numpy as np\n",
        "a = np.array([1])\n",
        "```"
      ]
    },
    {
      "cell_type": "markdown",
      "metadata": {
        "id": "lLIaS1PijVDM"
      },
      "source": [
        "テーブルの貼り付け\n",
        "\n",
        "|a|b|c|\n",
        "|-|-|-|\n",
        "|aiueo|kakikukeko|c|\n",
        "|aiueo|kakikukeko|c|\n"
      ]
    },
    {
      "cell_type": "code",
      "metadata": {
        "cellView": "form",
        "id": "XSRNI7eQipdE"
      },
      "source": [
        "#@title コードを隠せます"
      ],
      "execution_count": 2,
      "outputs": []
    },
    {
      "cell_type": "code",
      "metadata": {
        "id": "qMxNmjY_jTzt"
      },
      "source": [
        ""
      ],
      "execution_count": null,
      "outputs": []
    }
  ]
}