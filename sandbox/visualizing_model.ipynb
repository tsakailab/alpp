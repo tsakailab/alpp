{
  "nbformat": 4,
  "nbformat_minor": 0,
  "metadata": {
    "colab": {
      "name": "visualizing model.ipynb",
      "provenance": [],
      "authorship_tag": "ABX9TyM/YQZeaJ0uZcPgGPY3LQLs",
      "include_colab_link": true
    },
    "kernelspec": {
      "name": "python3",
      "display_name": "Python 3"
    },
    "language_info": {
      "name": "python"
    }
  },
  "cells": [
    {
      "cell_type": "markdown",
      "metadata": {
        "id": "view-in-github",
        "colab_type": "text"
      },
      "source": [
        "<a href=\"https://colab.research.google.com/github/tsakailab/iip/blob/main/sandbox/visualizing_model.ipynb\" target=\"_parent\"><img src=\"https://colab.research.google.com/assets/colab-badge.svg\" alt=\"Open In Colab\"/></a>"
      ]
    },
    {
      "cell_type": "markdown",
      "metadata": {
        "id": "hWl5zrku1n2E"
      },
      "source": [
        "https://discuss.pytorch.org/t/visualize-feature-map/29597/4\n",
        "\n",
        "https://youtu.be/RNnKtNrsrmg"
      ]
    },
    {
      "cell_type": "code",
      "metadata": {
        "colab": {
          "base_uri": "https://localhost:8080/",
          "height": 470
        },
        "id": "i9EoeXsrzvGe",
        "outputId": "62e3eee0-4507-4d9c-cb67-917da45f7988"
      },
      "source": [
        "import torch\n",
        "import torch.nn as nn\n",
        "import torch.optim as optim\n",
        "import torch.nn.functional as F\n",
        "from torch.utils.data import DataLoader\n",
        "\n",
        "import torchvision.transforms as transforms\n",
        "import torchvision.datasets as datasets\n",
        "\n",
        "import matplotlib.pyplot as plt\n",
        "\n",
        "from tqdm import tqdm\n",
        "\n",
        "class MyModel(nn.Module):\n",
        "    def __init__(self):\n",
        "        super(MyModel, self).__init__()\n",
        "        self.conv1 = nn.Conv2d(1, 3, 3, 1, 1)\n",
        "        self.pool1 = nn.MaxPool2d(2)\n",
        "        self.conv2 = nn.Conv2d(3, 6, 3, 1, 1)\n",
        "        self.pool2 = nn.MaxPool2d(2)\n",
        "        \n",
        "        self.conv_trans1 = nn.ConvTranspose2d(6, 3, 4, 2, 1)\n",
        "        self.conv_trans2 = nn.ConvTranspose2d(3, 1, 4, 2, 1)\n",
        "        \n",
        "    def forward(self, x):\n",
        "        x = F.relu(self.pool1(self.conv1(x)))\n",
        "        x = F.relu(self.pool2(self.conv2(x)))        \n",
        "        x = F.relu(self.conv_trans1(x))\n",
        "        x = self.conv_trans2(x)\n",
        "        return x\n",
        "\n",
        "dataset = datasets.MNIST(\n",
        "    root='PATH',\n",
        "    transform=transforms.ToTensor(),\n",
        "    download=True\n",
        ")\n",
        "loader = DataLoader(\n",
        "    dataset,\n",
        "    num_workers=2,\n",
        "    batch_size=8,\n",
        "    shuffle=True\n",
        ")\n",
        "\n",
        "model = MyModel()\n",
        "criterion = nn.BCEWithLogitsLoss()\n",
        "optimizer = optim.Adam(model.parameters(), lr=1e-3)\n",
        "\n",
        "epochs = 1\n",
        "with tqdm(total=int(len(loader)), position=0, leave=False) as pber:\n",
        "    for epoch in range(epochs):\n",
        "        for batch_idx, (data, target) in enumerate(loader):\n",
        "            optimizer.zero_grad()\n",
        "            output = model(data)\n",
        "            loss = criterion(output, data)\n",
        "            loss.backward()\n",
        "            optimizer.step()\n",
        "            \n",
        "            pber.update(1)\n",
        "            # print('Epoch {}, Batch idx {}, loss {}'.format(\n",
        "            #     epoch, batch_idx, loss.item()))\n"
      ],
      "execution_count": 34,
      "outputs": [
        {
          "output_type": "stream",
          "name": "stdout",
          "text": [
            "937\n"
          ]
        },
        {
          "output_type": "stream",
          "name": "stderr",
          "text": [
            ""
          ]
        },
        {
          "output_type": "display_data",
          "data": {
            "image/png": "[encoded data removed]",
            "text/plain": [
              "<Figure size 432x288 with 2 Axes>"
            ]
          },
          "metadata": {
            "needs_background": "light"
          }
        },
        {
          "output_type": "display_data",
          "data": {
            "image/png": "[encoded data removed]",
            "text/plain": [
              "<Figure size 432x288 with 3 Axes>"
            ]
          },
          "metadata": {
            "needs_background": "light"
          }
        }
      ]
    },
    {
      "cell_type": "code",
      "metadata": {
        "id": "G42aJrW_4Z2c"
      },
      "source": [
        "def normalize_output(img):\n",
        "    img = img - img.min()\n",
        "    img = img / img.max()\n",
        "    return img\n",
        "\n",
        "# Plot some images\n",
        "idx = torch.randint(0, output.size(0), ())\n",
        "pred = normalize_output(output[idx, 0])\n",
        "img = data[idx, 0]\n",
        "\n",
        "fig, axarr = plt.subplots(1, 2)\n",
        "axarr[0].imshow(img.detach().numpy())\n",
        "axarr[1].imshow(pred.detach().numpy())\n",
        "\n",
        "# Visualize feature maps\n",
        "activation = {}\n",
        "def get_activation(name):\n",
        "    def hook(model, input, output):\n",
        "        activation[name] = output.detach()\n",
        "    return hook\n",
        "\n",
        "model.conv1.register_forward_hook(get_activation('conv1'))\n",
        "data, _ = dataset[0]\n",
        "data.unsqueeze_(0)\n",
        "output = model(data)\n",
        "\n",
        "act = activation['conv1'].squeeze()\n",
        "fig, axarr = plt.subplots(act.size(0))\n",
        "for idx in range(act.size(0)):\n",
        "    axarr[idx].imshow(act[idx])"
      ],
      "execution_count": null,
      "outputs": []
    },
    {
      "cell_type": "code",
      "metadata": {
        "colab": {
          "base_uri": "https://localhost:8080/"
        },
        "id": "F-HVELLW1Hde",
        "outputId": "0dde9452-9461-4b0f-99fe-884f54b849f8"
      },
      "source": [
        "from torchsummary import summary\n",
        "summary(model, (1, 28, 28))"
      ],
      "execution_count": 23,
      "outputs": [
        {
          "output_type": "stream",
          "name": "stdout",
          "text": [
            "----------------------------------------------------------------\n",
            "        Layer (type)               Output Shape         Param #\n",
            "================================================================\n",
            "            Conv2d-1            [-1, 3, 28, 28]              30\n",
            "         MaxPool2d-2            [-1, 3, 14, 14]               0\n",
            "            Conv2d-3            [-1, 6, 14, 14]             168\n",
            "         MaxPool2d-4              [-1, 6, 7, 7]               0\n",
            "   ConvTranspose2d-5            [-1, 3, 14, 14]             291\n",
            "   ConvTranspose2d-6            [-1, 1, 28, 28]              49\n",
            "================================================================\n",
            "Total params: 538\n",
            "Trainable params: 538\n",
            "Non-trainable params: 0\n",
            "----------------------------------------------------------------\n",
            "Input size (MB): 0.00\n",
            "Forward/backward pass size (MB): 0.04\n",
            "Params size (MB): 0.00\n",
            "Estimated Total Size (MB): 0.05\n",
            "----------------------------------------------------------------\n"
          ]
        }
      ]
    },
    {
      "cell_type": "code",
      "metadata": {
        "colab": {
          "base_uri": "https://localhost:8080/",
          "height": 265
        },
        "id": "vYPuf2za1jl5",
        "outputId": "d4579a3d-c419-4cb1-9f95-43186da5a84c"
      },
      "source": [
        "# Visualize conv filter\n",
        "kernels = model.conv1.weight.detach()\n",
        "fig, axarr = plt.subplots(kernels.size(0))\n",
        "for idx in range(kernels.size(0)):\n",
        "    axarr[idx].imshow(kernels[idx].squeeze())"
      ],
      "execution_count": 24,
      "outputs": [
        {
          "output_type": "display_data",
          "data": {
            "image/png": "[encoded data removed]",
            "text/plain": [
              "<Figure size 432x288 with 3 Axes>"
            ]
          },
          "metadata": {
            "needs_background": "light"
          }
        }
      ]
    }
  ]
}