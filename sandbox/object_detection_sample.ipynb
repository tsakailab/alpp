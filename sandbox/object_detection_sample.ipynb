{
  "nbformat": 4,
  "nbformat_minor": 0,
  "metadata": {
    "colab": {
      "name": "object_detection_sample.ipynb",
      "provenance": [],
      "collapsed_sections": [],
      "authorship_tag": "ABX9TyPOsArv0i8lnWbdls9cXTaA",
      "include_colab_link": true
    },
    "kernelspec": {
      "name": "python3",
      "display_name": "Python 3"
    },
    "language_info": {
      "name": "python"
    },
    "accelerator": "GPU"
  },
  "cells": [
    {
      "cell_type": "markdown",
      "metadata": {
        "id": "view-in-github",
        "colab_type": "text"
      },
      "source": [
        "<a href=\"https://colab.research.google.com/github/tsakailab/iip/blob/main/sandbox/object_detection_sample.ipynb\" target=\"_parent\"><img src=\"https://colab.research.google.com/assets/colab-badge.svg\" alt=\"Open In Colab\"/></a>"
      ]
    },
    {
      "cell_type": "code",
      "execution_count": 127,
      "metadata": {
        "colab": {
          "resources": {
            "http://localhost:8080/nbextensions/google.colab/files.js": {
              "data": "Ly8gQ29weXJpZ2h0IDIwMTcgR29vZ2xlIExMQwovLwovLyBMaWNlbnNlZCB1bmRlciB0aGUgQXBhY2hlIExpY2Vuc2UsIFZlcnNpb24gMi4wICh0aGUgIkxpY2Vuc2UiKTsKLy8geW91IG1heSBub3QgdXNlIHRoaXMgZmlsZSBleGNlcHQgaW4gY29tcGxpYW5jZSB3aXRoIHRoZSBMaWNlbnNlLgovLyBZb3UgbWF5IG9idGFpbiBhIGNvcHkgb2YgdGhlIExpY2Vuc2UgYXQKLy8KLy8gICAgICBodHRwOi8vd3d3LmFwYWNoZS5vcmcvbGljZW5zZXMvTElDRU5TRS0yLjAKLy8KLy8gVW5sZXNzIHJlcXVpcmVkIGJ5IGFwcGxpY2FibGUgbGF3IG9yIGFncmVlZCB0byBpbiB3cml0aW5nLCBzb2Z0d2FyZQovLyBkaXN0cmlidXRlZCB1bmRlciB0aGUgTGljZW5zZSBpcyBkaXN0cmlidXRlZCBvbiBhbiAiQVMgSVMiIEJBU0lTLAovLyBXSVRIT1VUIFdBUlJBTlRJRVMgT1IgQ09ORElUSU9OUyBPRiBBTlkgS0lORCwgZWl0aGVyIGV4cHJlc3Mgb3IgaW1wbGllZC4KLy8gU2VlIHRoZSBMaWNlbnNlIGZvciB0aGUgc3BlY2lmaWMgbGFuZ3VhZ2UgZ292ZXJuaW5nIHBlcm1pc3Npb25zIGFuZAovLyBsaW1pdGF0aW9ucyB1bmRlciB0aGUgTGljZW5zZS4KCi8qKgogKiBAZmlsZW92ZXJ2aWV3IEhlbHBlcnMgZm9yIGdvb2dsZS5jb2xhYiBQeXRob24gbW9kdWxlLgogKi8KKGZ1bmN0aW9uKHNjb3BlKSB7CmZ1bmN0aW9uIHNwYW4odGV4dCwgc3R5bGVBdHRyaWJ1dGVzID0ge30pIHsKICBjb25zdCBlbGVtZW50ID0gZG9jdW1lbnQuY3JlYXRlRWxlbWVudCgnc3BhbicpOwogIGVsZW1lbnQudGV4dENvbnRlbnQgPSB0ZXh0OwogIGZvciAoY29uc3Qga2V5IG9mIE9iamVjdC5rZXlzKHN0eWxlQXR0cmlidXRlcykpIHsKICAgIGVsZW1lbnQuc3R5bGVba2V5XSA9IHN0eWxlQXR0cmlidXRlc1trZXldOwogIH0KICByZXR1cm4gZWxlbWVudDsKfQoKLy8gTWF4IG51bWJlciBvZiBieXRlcyB3aGljaCB3aWxsIGJlIHVwbG9hZGVkIGF0IGEgdGltZS4KY29uc3QgTUFYX1BBWUxPQURfU0laRSA9IDEwMCAqIDEwMjQ7CgpmdW5jdGlvbiBfdXBsb2FkRmlsZXMoaW5wdXRJZCwgb3V0cHV0SWQpIHsKICBjb25zdCBzdGVwcyA9IHVwbG9hZEZpbGVzU3RlcChpbnB1dElkLCBvdXRwdXRJZCk7CiAgY29uc3Qgb3V0cHV0RWxlbWVudCA9IGRvY3VtZW50LmdldEVsZW1lbnRCeUlkKG91dHB1dElkKTsKICAvLyBDYWNoZSBzdGVwcyBvbiB0aGUgb3V0cHV0RWxlbWVudCB0byBtYWtlIGl0IGF2YWlsYWJsZSBmb3IgdGhlIG5leHQgY2FsbAogIC8vIHRvIHVwbG9hZEZpbGVzQ29udGludWUgZnJvbSBQeXRob24uCiAgb3V0cHV0RWxlbWVudC5zdGVwcyA9IHN0ZXBzOwoKICByZXR1cm4gX3VwbG9hZEZpbGVzQ29udGludWUob3V0cHV0SWQpOwp9CgovLyBUaGlzIGlzIHJvdWdobHkgYW4gYXN5bmMgZ2VuZXJhdG9yIChub3Qgc3VwcG9ydGVkIGluIHRoZSBicm93c2VyIHlldCksCi8vIHdoZXJlIHRoZXJlIGFyZSBtdWx0aXBsZSBhc3luY2hyb25vdXMgc3RlcHMgYW5kIHRoZSBQeXRob24gc2lkZSBpcyBnb2luZwovLyB0byBwb2xsIGZvciBjb21wbGV0aW9uIG9mIGVhY2ggc3RlcC4KLy8gVGhpcyB1c2VzIGEgUHJvbWlzZSB0byBibG9jayB0aGUgcHl0aG9uIHNpZGUgb24gY29tcGxldGlvbiBvZiBlYWNoIHN0ZXAsCi8vIHRoZW4gcGFzc2VzIHRoZSByZXN1bHQgb2YgdGhlIHByZXZpb3VzIHN0ZXAgYXMgdGhlIGlucHV0IHRvIHRoZSBuZXh0IHN0ZXAuCmZ1bmN0aW9uIF91cGxvYWRGaWxlc0NvbnRpbnVlKG91dHB1dElkKSB7CiAgY29uc3Qgb3V0cHV0RWxlbWVudCA9IGRvY3VtZW50LmdldEVsZW1lbnRCeUlkKG91dHB1dElkKTsKICBjb25zdCBzdGVwcyA9IG91dHB1dEVsZW1lbnQuc3RlcHM7CgogIGNvbnN0IG5leHQgPSBzdGVwcy5uZXh0KG91dHB1dEVsZW1lbnQubGFzdFByb21pc2VWYWx1ZSk7CiAgcmV0dXJuIFByb21pc2UucmVzb2x2ZShuZXh0LnZhbHVlLnByb21pc2UpLnRoZW4oKHZhbHVlKSA9PiB7CiAgICAvLyBDYWNoZSB0aGUgbGFzdCBwcm9taXNlIHZhbHVlIHRvIG1ha2UgaXQgYXZhaWxhYmxlIHRvIHRoZSBuZXh0CiAgICAvLyBzdGVwIG9mIHRoZSBnZW5lcmF0b3IuCiAgICBvdXRwdXRFbGVtZW50Lmxhc3RQcm9taXNlVmFsdWUgPSB2YWx1ZTsKICAgIHJldHVybiBuZXh0LnZhbHVlLnJlc3BvbnNlOwogIH0pOwp9CgovKioKICogR2VuZXJhdG9yIGZ1bmN0aW9uIHdoaWNoIGlzIGNhbGxlZCBiZXR3ZWVuIGVhY2ggYXN5bmMgc3RlcCBvZiB0aGUgdXBsb2FkCiAqIHByb2Nlc3MuCiAqIEBwYXJhbSB7c3RyaW5nfSBpbnB1dElkIEVsZW1lbnQgSUQgb2YgdGhlIGlucHV0IGZpbGUgcGlja2VyIGVsZW1lbnQuCiAqIEBwYXJhbSB7c3RyaW5nfSBvdXRwdXRJZCBFbGVtZW50IElEIG9mIHRoZSBvdXRwdXQgZGlzcGxheS4KICogQHJldHVybiB7IUl0ZXJhYmxlPCFPYmplY3Q+fSBJdGVyYWJsZSBvZiBuZXh0IHN0ZXBzLgogKi8KZnVuY3Rpb24qIHVwbG9hZEZpbGVzU3RlcChpbnB1dElkLCBvdXRwdXRJZCkgewogIGNvbnN0IGlucHV0RWxlbWVudCA9IGRvY3VtZW50LmdldEVsZW1lbnRCeUlkKGlucHV0SWQpOwogIGlucHV0RWxlbWVudC5kaXNhYmxlZCA9IGZhbHNlOwoKICBjb25zdCBvdXRwdXRFbGVtZW50ID0gZG9jdW1lbnQuZ2V0RWxlbWVudEJ5SWQob3V0cHV0SWQpOwogIG91dHB1dEVsZW1lbnQuaW5uZXJIVE1MID0gJyc7CgogIGNvbnN0IHBpY2tlZFByb21pc2UgPSBuZXcgUHJvbWlzZSgocmVzb2x2ZSkgPT4gewogICAgaW5wdXRFbGVtZW50LmFkZEV2ZW50TGlzdGVuZXIoJ2NoYW5nZScsIChlKSA9PiB7CiAgICAgIHJlc29sdmUoZS50YXJnZXQuZmlsZXMpOwogICAgfSk7CiAgfSk7CgogIGNvbnN0IGNhbmNlbCA9IGRvY3VtZW50LmNyZWF0ZUVsZW1lbnQoJ2J1dHRvbicpOwogIGlucHV0RWxlbWVudC5wYXJlbnRFbGVtZW50LmFwcGVuZENoaWxkKGNhbmNlbCk7CiAgY2FuY2VsLnRleHRDb250ZW50ID0gJ0NhbmNlbCB1cGxvYWQnOwogIGNvbnN0IGNhbmNlbFByb21pc2UgPSBuZXcgUHJvbWlzZSgocmVzb2x2ZSkgPT4gewogICAgY2FuY2VsLm9uY2xpY2sgPSAoKSA9PiB7CiAgICAgIHJlc29sdmUobnVsbCk7CiAgICB9OwogIH0pOwoKICAvLyBXYWl0IGZvciB0aGUgdXNlciB0byBwaWNrIHRoZSBmaWxlcy4KICBjb25zdCBmaWxlcyA9IHlpZWxkIHsKICAgIHByb21pc2U6IFByb21pc2UucmFjZShbcGlja2VkUHJvbWlzZSwgY2FuY2VsUHJvbWlzZV0pLAogICAgcmVzcG9uc2U6IHsKICAgICAgYWN0aW9uOiAnc3RhcnRpbmcnLAogICAgfQogIH07CgogIGNhbmNlbC5yZW1vdmUoKTsKCiAgLy8gRGlzYWJsZSB0aGUgaW5wdXQgZWxlbWVudCBzaW5jZSBmdXJ0aGVyIHBpY2tzIGFyZSBub3QgYWxsb3dlZC4KICBpbnB1dEVsZW1lbnQuZGlzYWJsZWQgPSB0cnVlOwoKICBpZiAoIWZpbGVzKSB7CiAgICByZXR1cm4gewogICAgICByZXNwb25zZTogewogICAgICAgIGFjdGlvbjogJ2NvbXBsZXRlJywKICAgICAgfQogICAgfTsKICB9CgogIGZvciAoY29uc3QgZmlsZSBvZiBmaWxlcykgewogICAgY29uc3QgbGkgPSBkb2N1bWVudC5jcmVhdGVFbGVtZW50KCdsaScpOwogICAgbGkuYXBwZW5kKHNwYW4oZmlsZS5uYW1lLCB7Zm9udFdlaWdodDogJ2JvbGQnfSkpOwogICAgbGkuYXBwZW5kKHNwYW4oCiAgICAgICAgYCgke2ZpbGUudHlwZSB8fCAnbi9hJ30pIC0gJHtmaWxlLnNpemV9IGJ5dGVzLCBgICsKICAgICAgICBgbGFzdCBtb2RpZmllZDogJHsKICAgICAgICAgICAgZmlsZS5sYXN0TW9kaWZpZWREYXRlID8gZmlsZS5sYXN0TW9kaWZpZWREYXRlLnRvTG9jYWxlRGF0ZVN0cmluZygpIDoKICAgICAgICAgICAgICAgICAgICAgICAgICAgICAgICAgICAgJ24vYSd9IC0gYCkpOwogICAgY29uc3QgcGVyY2VudCA9IHNwYW4oJzAlIGRvbmUnKTsKICAgIGxpLmFwcGVuZENoaWxkKHBlcmNlbnQpOwoKICAgIG91dHB1dEVsZW1lbnQuYXBwZW5kQ2hpbGQobGkpOwoKICAgIGNvbnN0IGZpbGVEYXRhUHJvbWlzZSA9IG5ldyBQcm9taXNlKChyZXNvbHZlKSA9PiB7CiAgICAgIGNvbnN0IHJlYWRlciA9IG5ldyBGaWxlUmVhZGVyKCk7CiAgICAgIHJlYWRlci5vbmxvYWQgPSAoZSkgPT4gewogICAgICAgIHJlc29sdmUoZS50YXJnZXQucmVzdWx0KTsKICAgICAgfTsKICAgICAgcmVhZGVyLnJlYWRBc0FycmF5QnVmZmVyKGZpbGUpOwogICAgfSk7CiAgICAvLyBXYWl0IGZvciB0aGUgZGF0YSB0byBiZSByZWFkeS4KICAgIGxldCBmaWxlRGF0YSA9IHlpZWxkIHsKICAgICAgcHJvbWlzZTogZmlsZURhdGFQcm9taXNlLAogICAgICByZXNwb25zZTogewogICAgICAgIGFjdGlvbjogJ2NvbnRpbnVlJywKICAgICAgfQogICAgfTsKCiAgICAvLyBVc2UgYSBjaHVua2VkIHNlbmRpbmcgdG8gYXZvaWQgbWVzc2FnZSBzaXplIGxpbWl0cy4gU2VlIGIvNjIxMTU2NjAuCiAgICBsZXQgcG9zaXRpb24gPSAwOwogICAgZG8gewogICAgICBjb25zdCBsZW5ndGggPSBNYXRoLm1pbihmaWxlRGF0YS5ieXRlTGVuZ3RoIC0gcG9zaXRpb24sIE1BWF9QQVlMT0FEX1NJWkUpOwogICAgICBjb25zdCBjaHVuayA9IG5ldyBVaW50OEFycmF5KGZpbGVEYXRhLCBwb3NpdGlvbiwgbGVuZ3RoKTsKICAgICAgcG9zaXRpb24gKz0gbGVuZ3RoOwoKICAgICAgY29uc3QgYmFzZTY0ID0gYnRvYShTdHJpbmcuZnJvbUNoYXJDb2RlLmFwcGx5KG51bGwsIGNodW5rKSk7CiAgICAgIHlpZWxkIHsKICAgICAgICByZXNwb25zZTogewogICAgICAgICAgYWN0aW9uOiAnYXBwZW5kJywKICAgICAgICAgIGZpbGU6IGZpbGUubmFtZSwKICAgICAgICAgIGRhdGE6IGJhc2U2NCwKICAgICAgICB9LAogICAgICB9OwoKICAgICAgbGV0IHBlcmNlbnREb25lID0gZmlsZURhdGEuYnl0ZUxlbmd0aCA9PT0gMCA/CiAgICAgICAgICAxMDAgOgogICAgICAgICAgTWF0aC5yb3VuZCgocG9zaXRpb24gLyBmaWxlRGF0YS5ieXRlTGVuZ3RoKSAqIDEwMCk7CiAgICAgIHBlcmNlbnQudGV4dENvbnRlbnQgPSBgJHtwZXJjZW50RG9uZX0lIGRvbmVgOwoKICAgIH0gd2hpbGUgKHBvc2l0aW9uIDwgZmlsZURhdGEuYnl0ZUxlbmd0aCk7CiAgfQoKICAvLyBBbGwgZG9uZS4KICB5aWVsZCB7CiAgICByZXNwb25zZTogewogICAgICBhY3Rpb246ICdjb21wbGV0ZScsCiAgICB9CiAgfTsKfQoKc2NvcGUuZ29vZ2xlID0gc2NvcGUuZ29vZ2xlIHx8IHt9OwpzY29wZS5nb29nbGUuY29sYWIgPSBzY29wZS5nb29nbGUuY29sYWIgfHwge307CnNjb3BlLmdvb2dsZS5jb2xhYi5fZmlsZXMgPSB7CiAgX3VwbG9hZEZpbGVzLAogIF91cGxvYWRGaWxlc0NvbnRpbnVlLAp9Owp9KShzZWxmKTsK",
              "ok": true,
              "headers": [
                [
                  "content-type",
                  "application/javascript"
                ]
              ],
              "status": 200,
              "status_text": ""
            }
          },
          "base_uri": "https://localhost:8080/",
          "height": 97
        },
        "id": "YGBCfUHIDDvD",
        "outputId": "add581d6-8da7-4187-e34e-2efa06f2cf0e"
      },
      "outputs": [
        {
          "output_type": "display_data",
          "data": {
            "text/html": [
              "\n",
              "     <input type=\"file\" id=\"files-2e910f6e-09f9-4964-b573-3fc65f978afe\" name=\"files[]\" multiple disabled\n",
              "        style=\"border:none\" />\n",
              "     <output id=\"result-2e910f6e-09f9-4964-b573-3fc65f978afe\">\n",
              "      Upload widget is only available when the cell has been executed in the\n",
              "      current browser session. Please rerun this cell to enable.\n",
              "      </output>\n",
              "      <script src=\"/nbextensions/google.colab/files.js\"></script> "
            ],
            "text/plain": [
              "<IPython.core.display.HTML object>"
            ]
          },
          "metadata": {}
        },
        {
          "output_type": "stream",
          "name": "stdout",
          "text": [
            "Saving kaggle.json to kaggle.json\n",
            "User uploaded file \"kaggle.json\" with length 66 bytes\n"
          ]
        }
      ],
      "source": [
        "from google.colab import files\n",
        "\n",
        "uploaded = files.upload()\n",
        "\n",
        "for fn in uploaded.keys():\n",
        "  print('User uploaded file \"{name}\" with length {length} bytes'.format(\n",
        "      name=fn, length=len(uploaded[fn])))\n",
        "  \n",
        "# Then move kaggle.json into the folder where the API expects to find it.\n",
        "!mkdir -p ~/.kaggle/ && mv kaggle.json ~/.kaggle/ && chmod 600 ~/.kaggle/kaggle.json"
      ]
    },
    {
      "cell_type": "code",
      "source": [
        "!kaggle competitions list"
      ],
      "metadata": {
        "colab": {
          "base_uri": "https://localhost:8080/"
        },
        "id": "SHP12_yIDkNt",
        "outputId": "c2956c42-a143-4d2c-9b04-b3584b97ed72"
      },
      "execution_count": 128,
      "outputs": [
        {
          "output_type": "stream",
          "name": "stdout",
          "text": [
            "Warning: Looks like you're using an outdated API Version, please consider updating (server 1.5.12 / client 1.5.4)\n",
            "ref                                            deadline             category            reward  teamCount  userHasEntered  \n",
            "---------------------------------------------  -------------------  ---------------  ---------  ---------  --------------  \n",
            "contradictory-my-dear-watson                   2030-07-01 23:59:00  Getting Started     Prizes         88           False  \n",
            "gan-getting-started                            2030-07-01 23:59:00  Getting Started     Prizes         76           False  \n",
            "store-sales-time-series-forecasting            2030-06-30 23:59:00  Getting Started  Knowledge        909           False  \n",
            "tpu-getting-started                            2030-06-03 23:59:00  Getting Started  Knowledge        145           False  \n",
            "digit-recognizer                               2030-01-01 00:00:00  Getting Started  Knowledge       1674           False  \n",
            "titanic                                        2030-01-01 00:00:00  Getting Started  Knowledge      14599            True  \n",
            "house-prices-advanced-regression-techniques    2030-01-01 00:00:00  Getting Started  Knowledge       5396           False  \n",
            "connectx                                       2030-01-01 00:00:00  Getting Started  Knowledge        227           False  \n",
            "nlp-getting-started                            2030-01-01 00:00:00  Getting Started  Knowledge        916           False  \n",
            "competitive-data-science-predict-future-sales  2022-12-31 23:59:00  Playground           Kudos      13159           False  \n",
            "tensorflow-great-barrier-reef                  2022-02-14 23:59:00  Research          $150,000        406           False  \n",
            "jigsaw-toxic-severity-rating                   2022-02-07 23:59:00  Featured           $50,000       1001           False  \n",
            "g-research-crypto-forecasting                  2022-02-01 23:59:00  Featured          $125,000        920           False  \n",
            "petfinder-pawpularity-score                    2022-01-13 23:59:00  Research           $25,000       2805           False  \n",
            "santa-2021                                     2022-01-11 23:59:00  Featured           $25,000        669           False  \n",
            "optiver-realized-volatility-prediction         2022-01-10 23:59:00  Featured          $100,000       3852           False  \n",
            "nfl-big-data-bowl-2022                         2022-01-06 23:59:00  Analytics         $100,000          0           False  \n",
            "tabular-playground-series-dec-2021             2021-12-31 23:59:00  Playground            Swag        519           False  \n",
            "sartorius-cell-instance-segmentation           2021-12-30 23:59:00  Featured           $75,000       1269           False  \n",
            "lux-ai-2021                                    2021-12-20 23:59:00  Featured           $10,000       1186           False  \n"
          ]
        }
      ]
    },
    {
      "cell_type": "code",
      "source": [
        "!kaggle datasets download \"andrewmvd/road-sign-detection\" --unzip"
      ],
      "metadata": {
        "colab": {
          "base_uri": "https://localhost:8080/"
        },
        "id": "ph7RfVHbDodR",
        "outputId": "451d055c-2718-4b01-e8f9-7752f7a86739"
      },
      "execution_count": 129,
      "outputs": [
        {
          "output_type": "stream",
          "name": "stdout",
          "text": [
            "Downloading road-sign-detection.zip to /content\n",
            "100% 218M/218M [00:01<00:00, 171MB/s]\n",
            "100% 218M/218M [00:01<00:00, 165MB/s]\n"
          ]
        }
      ]
    },
    {
      "cell_type": "code",
      "source": [
        "#library imports\n",
        "import os\n",
        "import random\n",
        "import math\n",
        "from datetime import datetime\n",
        "from collections import Counter\n",
        "import pandas as pd\n",
        "import numpy as np\n",
        "\n",
        "import cv2\n",
        "from PIL import Image\n",
        "from pathlib import Path\n",
        "import matplotlib.pyplot as plt\n",
        "from matplotlib.patches import Rectangle\n",
        "from sklearn.model_selection import train_test_split\n",
        "import xml.etree.ElementTree as ET\n",
        "\n",
        "import torch\n",
        "from torch.utils.data import Dataset, DataLoader\n",
        "import torch.optim as optim\n",
        "import torch.nn as nn\n",
        "import torch.nn.functional as F\n",
        "from torchvision import models"
      ],
      "metadata": {
        "id": "FcK14FycEh9N"
      },
      "execution_count": 130,
      "outputs": []
    },
    {
      "cell_type": "code",
      "source": [
        "%reload_ext autoreload\n",
        "%autoreload 2\n",
        "%matplotlib inline"
      ],
      "metadata": {
        "id": "GqsD2BUaExyO"
      },
      "execution_count": 131,
      "outputs": []
    },
    {
      "cell_type": "code",
      "source": [
        "images_path = Path('./images')\n",
        "anno_path = Path('./annotations')"
      ],
      "metadata": {
        "id": "sJLgB4SoE4kF"
      },
      "execution_count": 132,
      "outputs": []
    },
    {
      "cell_type": "code",
      "source": [
        "def filelist(root, file_type):\n",
        "    \"\"\"Returns a fully-qualified list of filenames under root directory\"\"\"\n",
        "    return [os.path.join(directory_path, f) for directory_path, directory_name, \n",
        "            files in os.walk(root) for f in files if f.endswith(file_type)]\n",
        "\n",
        "def generate_train_df (anno_path):\n",
        "    annotations = filelist(anno_path, '.xml')\n",
        "    anno_list = []\n",
        "    for anno_path in annotations:\n",
        "        root = ET.parse(anno_path).getroot()\n",
        "        anno = {}\n",
        "        anno['filename'] = Path(str(images_path) + '/'+ root.find(\"./filename\").text)\n",
        "        anno['width'] = root.find(\"./size/width\").text\n",
        "        anno['height'] = root.find(\"./size/height\").text\n",
        "        anno['class'] = root.find(\"./object/name\").text\n",
        "        anno['xmin'] = int(root.find(\"./object/bndbox/xmin\").text)\n",
        "        anno['ymin'] = int(root.find(\"./object/bndbox/ymin\").text)\n",
        "        anno['xmax'] = int(root.find(\"./object/bndbox/xmax\").text)\n",
        "        anno['ymax'] = int(root.find(\"./object/bndbox/ymax\").text)\n",
        "        anno_list.append(anno)\n",
        "    return pd.DataFrame(anno_list)"
      ],
      "metadata": {
        "id": "tPiqZxBRE8Q4"
      },
      "execution_count": 133,
      "outputs": []
    },
    {
      "cell_type": "code",
      "source": [
        "df_train = generate_train_df(anno_path)"
      ],
      "metadata": {
        "id": "ZhthCzwME8yr"
      },
      "execution_count": 134,
      "outputs": []
    },
    {
      "cell_type": "code",
      "source": [
        "#label encode target\n",
        "class_dict = {'speedlimit': 0, 'stop': 1, 'crosswalk': 2, 'trafficlight': 3}\n",
        "df_train['class'] = df_train['class'].apply(lambda x:  class_dict[x])"
      ],
      "metadata": {
        "id": "7PXxB8PgE_M1"
      },
      "execution_count": 135,
      "outputs": []
    },
    {
      "cell_type": "code",
      "source": [
        "print(df_train.shape)\n",
        "print(len(df_train))\n",
        "df_train.head()"
      ],
      "metadata": {
        "colab": {
          "base_uri": "https://localhost:8080/",
          "height": 242
        },
        "id": "_0CZ9bJZFAeD",
        "outputId": "e109c4ba-a898-4a04-8f37-efbc3956e495"
      },
      "execution_count": 136,
      "outputs": [
        {
          "output_type": "stream",
          "name": "stdout",
          "text": [
            "(877, 8)\n",
            "877\n"
          ]
        },
        {
          "output_type": "execute_result",
          "data": {
            "text/html": [
              "<div>\n",
              "<style scoped>\n",
              "    .dataframe tbody tr th:only-of-type {\n",
              "        vertical-align: middle;\n",
              "    }\n",
              "\n",
              "    .dataframe tbody tr th {\n",
              "        vertical-align: top;\n",
              "    }\n",
              "\n",
              "    .dataframe thead th {\n",
              "        text-align: right;\n",
              "    }\n",
              "</style>\n",
              "<table border=\"1\" class=\"dataframe\">\n",
              "  <thead>\n",
              "    <tr style=\"text-align: right;\">\n",
              "      <th></th>\n",
              "      <th>filename</th>\n",
              "      <th>width</th>\n",
              "      <th>height</th>\n",
              "      <th>class</th>\n",
              "      <th>xmin</th>\n",
              "      <th>ymin</th>\n",
              "      <th>xmax</th>\n",
              "      <th>ymax</th>\n",
              "    </tr>\n",
              "  </thead>\n",
              "  <tbody>\n",
              "    <tr>\n",
              "      <th>0</th>\n",
              "      <td>images/road574.png</td>\n",
              "      <td>300</td>\n",
              "      <td>400</td>\n",
              "      <td>0</td>\n",
              "      <td>86</td>\n",
              "      <td>202</td>\n",
              "      <td>206</td>\n",
              "      <td>327</td>\n",
              "    </tr>\n",
              "    <tr>\n",
              "      <th>1</th>\n",
              "      <td>images/road481.png</td>\n",
              "      <td>300</td>\n",
              "      <td>400</td>\n",
              "      <td>0</td>\n",
              "      <td>90</td>\n",
              "      <td>230</td>\n",
              "      <td>144</td>\n",
              "      <td>284</td>\n",
              "    </tr>\n",
              "    <tr>\n",
              "      <th>2</th>\n",
              "      <td>images/road779.png</td>\n",
              "      <td>300</td>\n",
              "      <td>400</td>\n",
              "      <td>0</td>\n",
              "      <td>68</td>\n",
              "      <td>142</td>\n",
              "      <td>195</td>\n",
              "      <td>269</td>\n",
              "    </tr>\n",
              "    <tr>\n",
              "      <th>3</th>\n",
              "      <td>images/road649.png</td>\n",
              "      <td>300</td>\n",
              "      <td>400</td>\n",
              "      <td>0</td>\n",
              "      <td>127</td>\n",
              "      <td>155</td>\n",
              "      <td>154</td>\n",
              "      <td>183</td>\n",
              "    </tr>\n",
              "    <tr>\n",
              "      <th>4</th>\n",
              "      <td>images/road226.png</td>\n",
              "      <td>300</td>\n",
              "      <td>400</td>\n",
              "      <td>0</td>\n",
              "      <td>134</td>\n",
              "      <td>175</td>\n",
              "      <td>156</td>\n",
              "      <td>197</td>\n",
              "    </tr>\n",
              "  </tbody>\n",
              "</table>\n",
              "</div>"
            ],
            "text/plain": [
              "             filename width height  class  xmin  ymin  xmax  ymax\n",
              "0  images/road574.png   300    400      0    86   202   206   327\n",
              "1  images/road481.png   300    400      0    90   230   144   284\n",
              "2  images/road779.png   300    400      0    68   142   195   269\n",
              "3  images/road649.png   300    400      0   127   155   154   183\n",
              "4  images/road226.png   300    400      0   134   175   156   197"
            ]
          },
          "metadata": {},
          "execution_count": 136
        }
      ]
    },
    {
      "cell_type": "code",
      "source": [
        "df_train = df_train.reset_index()"
      ],
      "metadata": {
        "id": "RaTEyTq5FsBc"
      },
      "execution_count": 137,
      "outputs": []
    },
    {
      "cell_type": "code",
      "source": [
        "df_train.head()"
      ],
      "metadata": {
        "colab": {
          "base_uri": "https://localhost:8080/",
          "height": 206
        },
        "id": "ljG_gJN7QvuF",
        "outputId": "00090f6d-30ba-495a-daa3-3930959b7bfb"
      },
      "execution_count": 138,
      "outputs": [
        {
          "output_type": "execute_result",
          "data": {
            "text/html": [
              "<div>\n",
              "<style scoped>\n",
              "    .dataframe tbody tr th:only-of-type {\n",
              "        vertical-align: middle;\n",
              "    }\n",
              "\n",
              "    .dataframe tbody tr th {\n",
              "        vertical-align: top;\n",
              "    }\n",
              "\n",
              "    .dataframe thead th {\n",
              "        text-align: right;\n",
              "    }\n",
              "</style>\n",
              "<table border=\"1\" class=\"dataframe\">\n",
              "  <thead>\n",
              "    <tr style=\"text-align: right;\">\n",
              "      <th></th>\n",
              "      <th>index</th>\n",
              "      <th>filename</th>\n",
              "      <th>width</th>\n",
              "      <th>height</th>\n",
              "      <th>class</th>\n",
              "      <th>xmin</th>\n",
              "      <th>ymin</th>\n",
              "      <th>xmax</th>\n",
              "      <th>ymax</th>\n",
              "    </tr>\n",
              "  </thead>\n",
              "  <tbody>\n",
              "    <tr>\n",
              "      <th>0</th>\n",
              "      <td>0</td>\n",
              "      <td>images/road574.png</td>\n",
              "      <td>300</td>\n",
              "      <td>400</td>\n",
              "      <td>0</td>\n",
              "      <td>86</td>\n",
              "      <td>202</td>\n",
              "      <td>206</td>\n",
              "      <td>327</td>\n",
              "    </tr>\n",
              "    <tr>\n",
              "      <th>1</th>\n",
              "      <td>1</td>\n",
              "      <td>images/road481.png</td>\n",
              "      <td>300</td>\n",
              "      <td>400</td>\n",
              "      <td>0</td>\n",
              "      <td>90</td>\n",
              "      <td>230</td>\n",
              "      <td>144</td>\n",
              "      <td>284</td>\n",
              "    </tr>\n",
              "    <tr>\n",
              "      <th>2</th>\n",
              "      <td>2</td>\n",
              "      <td>images/road779.png</td>\n",
              "      <td>300</td>\n",
              "      <td>400</td>\n",
              "      <td>0</td>\n",
              "      <td>68</td>\n",
              "      <td>142</td>\n",
              "      <td>195</td>\n",
              "      <td>269</td>\n",
              "    </tr>\n",
              "    <tr>\n",
              "      <th>3</th>\n",
              "      <td>3</td>\n",
              "      <td>images/road649.png</td>\n",
              "      <td>300</td>\n",
              "      <td>400</td>\n",
              "      <td>0</td>\n",
              "      <td>127</td>\n",
              "      <td>155</td>\n",
              "      <td>154</td>\n",
              "      <td>183</td>\n",
              "    </tr>\n",
              "    <tr>\n",
              "      <th>4</th>\n",
              "      <td>4</td>\n",
              "      <td>images/road226.png</td>\n",
              "      <td>300</td>\n",
              "      <td>400</td>\n",
              "      <td>0</td>\n",
              "      <td>134</td>\n",
              "      <td>175</td>\n",
              "      <td>156</td>\n",
              "      <td>197</td>\n",
              "    </tr>\n",
              "  </tbody>\n",
              "</table>\n",
              "</div>"
            ],
            "text/plain": [
              "   index            filename width height  class  xmin  ymin  xmax  ymax\n",
              "0      0  images/road574.png   300    400      0    86   202   206   327\n",
              "1      1  images/road481.png   300    400      0    90   230   144   284\n",
              "2      2  images/road779.png   300    400      0    68   142   195   269\n",
              "3      3  images/road649.png   300    400      0   127   155   154   183\n",
              "4      4  images/road226.png   300    400      0   134   175   156   197"
            ]
          },
          "metadata": {},
          "execution_count": 138
        }
      ]
    },
    {
      "cell_type": "code",
      "source": [
        "X = df_train\n",
        "Y = df_train"
      ],
      "metadata": {
        "id": "-NoWB-6oFsTJ"
      },
      "execution_count": 139,
      "outputs": []
    },
    {
      "cell_type": "code",
      "source": [
        "X_train, X_val, y_train, y_val = train_test_split(X, Y, test_size=0.2, random_state=42)\n",
        "X_train = X_train.reset_index()\n",
        "X_val = X_val.reset_index()"
      ],
      "metadata": {
        "id": "GHvpqxuxFtcm"
      },
      "execution_count": 140,
      "outputs": []
    },
    {
      "cell_type": "code",
      "source": [
        "from torchvision import transforms\n",
        "from PIL import Image\n",
        "import matplotlib.pyplot as plt\n",
        "\n",
        "\n",
        "hparam = {'batch_size': 64, 'image_size': (224, 224),\n",
        "          'shuffle': True, 'num_workers': 2,\n",
        "          'mean_color': [0.485, 0.456, 0.406, 0], 'std_color': [0.229, 0.224, 0.225, 1]}\n",
        "\n",
        "transform = {\n",
        "    \"train\":transforms.Compose([\n",
        "        transforms.Resize((400, 300)),\n",
        "        transforms.RandomHorizontalFlip(),\n",
        "        transforms.Normalize(hparam['mean_color'], hparam['std_color']),\n",
        "        ]),\n",
        "    \"val\":transforms.Compose([\n",
        "        transforms.Resize((400, 300)),\n",
        "        transforms.Normalize(hparam['mean_color'], hparam['std_color']),\n",
        "        ])\n",
        "}\n",
        "\n",
        "\n",
        "class RoadDataset(Dataset):\n",
        "    def __init__(self, dataframe, transform=None):\n",
        "        self.dataframe = dataframe\n",
        "        self.transform = transform\n",
        "        self.preprocess = transforms.Compose([\n",
        "            transforms.ToTensor(),\n",
        "        ])\n",
        "        \n",
        "\n",
        "    def __len__(self):\n",
        "        return len(self.dataframe)\n",
        "    \n",
        "    def __getitem__(self, idx):\n",
        "        path = self.dataframe[\"filename\"][idx]\n",
        "        y_class = self.dataframe[\"class\"][idx]\n",
        "        bbox = [self.dataframe[\"xmin\"][idx], self.dataframe[\"ymin\"][idx], self.dataframe[\"xmax\"][idx], self.dataframe[\"ymax\"][idx]]\n",
        "        bbox = torch.tensor(bbox)\n",
        "        out_img = Image.open(path)\n",
        "        out_img = self.preprocess(out_img)\n",
        "        mask = torch.zeros((out_img.shape[1], out_img.shape[2]))\n",
        "        mask[bbox[1]:bbox[3], bbox[0]:bbox[2]] = 1\n",
        "        out_img = torch.cat((out_img[0:3], mask.unsqueeze(0)), 0)\n",
        "        if self.transform:\n",
        "            out_img = self.transform(out_img)\n",
        "        bbox = torch.cat((out_img[-1].nonzero()[:, 1].min().unsqueeze(0), out_img[-1].nonzero()[:, 0].min().unsqueeze(0), out_img[-1].nonzero()[:, 1].max().unsqueeze(0), out_img[-1].nonzero()[:, 0].max().unsqueeze(0)), 0)\n",
        "        return out_img[0:3], y_class, bbox\n",
        "\n",
        "train_ds = RoadDataset(X_train , transform=transform[\"train\"])\n",
        "val_ds = RoadDataset(X_val , transform=transform[\"val\"])"
      ],
      "metadata": {
        "id": "fbP_hgciImEf"
      },
      "execution_count": 141,
      "outputs": []
    },
    {
      "cell_type": "code",
      "source": [
        "print(len(df_train))\n",
        "print(len(train_ds))\n",
        "print(len(val_ds))"
      ],
      "metadata": {
        "colab": {
          "base_uri": "https://localhost:8080/"
        },
        "id": "8a_roKGSQzVr",
        "outputId": "a83daa16-de50-493f-a6eb-7a2697e3f7cc"
      },
      "execution_count": 142,
      "outputs": [
        {
          "output_type": "stream",
          "name": "stdout",
          "text": [
            "877\n",
            "701\n",
            "176\n"
          ]
        }
      ]
    },
    {
      "cell_type": "code",
      "source": [
        "batch_size = 64\n",
        "train_dl = DataLoader(train_ds, batch_size=batch_size, shuffle=True)\n",
        "valid_dl = DataLoader(val_ds, batch_size=batch_size)"
      ],
      "metadata": {
        "id": "aV6_C1ShFy-B"
      },
      "execution_count": 143,
      "outputs": []
    },
    {
      "cell_type": "code",
      "source": [
        "class BB_model(nn.Module):\n",
        "    def __init__(self):\n",
        "        super(BB_model, self).__init__()\n",
        "        resnet = models.resnet34(pretrained=True)\n",
        "        layers = list(resnet.children())[:8]\n",
        "        self.features1 = nn.Sequential(*layers[:6])\n",
        "        self.features2 = nn.Sequential(*layers[6:])\n",
        "        self.classifier = nn.Sequential(nn.BatchNorm1d(512), nn.Linear(512, 4))\n",
        "        self.bb = nn.Sequential(nn.BatchNorm1d(512), nn.Linear(512, 4))\n",
        "        \n",
        "    def forward(self, x):\n",
        "        x = self.features1(x)\n",
        "        x = self.features2(x)\n",
        "        x = F.relu(x)\n",
        "        x = nn.AdaptiveAvgPool2d((1,1))(x)\n",
        "        x = x.view(x.shape[0], -1)\n",
        "        return self.classifier(x), self.bb(x)"
      ],
      "metadata": {
        "id": "rmxV3RDcF0wI"
      },
      "execution_count": 144,
      "outputs": []
    },
    {
      "cell_type": "code",
      "source": [
        "def update_optimizer(optimizer, lr):\n",
        "    for i, param_group in enumerate(optimizer.param_groups):\n",
        "        param_group[\"lr\"] = lr"
      ],
      "metadata": {
        "id": "3w2DL91cF6Vd"
      },
      "execution_count": 145,
      "outputs": []
    },
    {
      "cell_type": "code",
      "source": [
        "def train_epocs(model, optimizer, train_dl, val_dl, epochs=10,C=1000):\n",
        "    idx = 0\n",
        "    for i in range(epochs):\n",
        "        model.train()\n",
        "        total = 0\n",
        "        sum_loss = 0\n",
        "        for x, y_class, y_bb in train_dl:\n",
        "            batch = y_class.shape[0]\n",
        "            x = x.cuda().float()\n",
        "            y_class = y_class.cuda()\n",
        "            y_bb = y_bb.cuda().float()\n",
        "            out_class, out_bb = model(x)\n",
        "            loss_class = F.cross_entropy(out_class, y_class, reduction=\"sum\")\n",
        "            loss_bb = F.l1_loss(out_bb, y_bb, reduction=\"none\").sum(1)\n",
        "            loss_bb = loss_bb.sum()\n",
        "            loss = loss_class + loss_bb/C\n",
        "            optimizer.zero_grad()\n",
        "            loss.backward()\n",
        "            optimizer.step()\n",
        "            idx += 1\n",
        "            total += batch\n",
        "            sum_loss += loss.item()\n",
        "        train_loss = sum_loss/total\n",
        "        val_loss, val_acc = val_metrics(model, valid_dl, C)\n",
        "        print(\"train_loss %.3f val_loss %.3f val_acc %.3f\" % (train_loss, val_loss, val_acc))\n",
        "    return sum_loss/total\n"
      ],
      "metadata": {
        "id": "s_702OxUF7e8"
      },
      "execution_count": 146,
      "outputs": []
    },
    {
      "cell_type": "code",
      "source": [
        "def val_metrics(model, valid_dl, C=1000):\n",
        "    with torch.no_grad():\n",
        "        model.eval()\n",
        "        total = 0\n",
        "        sum_loss = 0\n",
        "        correct = 0 \n",
        "        for x, y_class, y_bb in valid_dl:\n",
        "            batch = y_class.shape[0]\n",
        "            x = x.cuda().float()\n",
        "            y_class = y_class.cuda()\n",
        "            y_bb = y_bb.cuda().float()\n",
        "            out_class, out_bb = model(x)\n",
        "            loss_class = F.cross_entropy(out_class, y_class, reduction=\"sum\")\n",
        "            loss_bb = F.l1_loss(out_bb, y_bb, reduction=\"none\").sum(1)\n",
        "            loss_bb = loss_bb.sum()\n",
        "            loss = loss_class + loss_bb/C\n",
        "            _, pred = torch.max(out_class, 1)\n",
        "            correct += pred.eq(y_class).sum().item()\n",
        "            sum_loss += loss.item()\n",
        "            total += batch\n",
        "    return sum_loss/total, correct/total"
      ],
      "metadata": {
        "id": "LeI3Pxp6F9LR"
      },
      "execution_count": 147,
      "outputs": []
    },
    {
      "cell_type": "code",
      "source": [
        "model = BB_model().cuda()\n",
        "parameters = filter(lambda p: p.requires_grad, model.parameters())\n",
        "optimizer = torch.optim.Adam(parameters, lr=0.006)"
      ],
      "metadata": {
        "id": "k78Oel-ZF-j3"
      },
      "execution_count": 148,
      "outputs": []
    },
    {
      "cell_type": "code",
      "source": [
        "def train_epocs(model, optimizer, train_dl, val_dl, epochs=10,C=1000):\n",
        "    idx = 0\n",
        "    for i in range(epochs):\n",
        "        model.train()\n",
        "        total = 0\n",
        "        sum_loss = 0\n",
        "        for x, y_class, y_bb in train_dl:\n",
        "            batch = y_class.shape[0]\n",
        "            x = x.cuda().float()\n",
        "            y_class = y_class.cuda()\n",
        "            y_bb = y_bb.cuda().float()\n",
        "            out_class, out_bb = model(x)\n",
        "            loss_class = F.cross_entropy(out_class, y_class, reduction=\"sum\")\n",
        "            loss_bb = F.l1_loss(out_bb, y_bb, reduction=\"none\").sum(1)\n",
        "            loss_bb = loss_bb.sum()\n",
        "            loss = loss_class + loss_bb/C\n",
        "            optimizer.zero_grad()\n",
        "            loss.backward()\n",
        "            optimizer.step()\n",
        "            idx += 1\n",
        "            total += batch\n",
        "            sum_loss += loss.item()\n",
        "        train_loss = sum_loss/total\n",
        "        val_loss, val_acc = val_metrics(model, valid_dl, C)\n",
        "        print(\"train_loss %.3f val_loss %.3f val_acc %.3f\" % (train_loss, val_loss, val_acc))\n",
        "    return sum_loss/total\n",
        "\n",
        "train_epocs(model, optimizer, train_dl, valid_dl, epochs=15)"
      ],
      "metadata": {
        "colab": {
          "base_uri": "https://localhost:8080/"
        },
        "id": "ftz-V9RJF_5L",
        "outputId": "393a09b2-14cd-46da-c7c8-7c57358c3921"
      },
      "execution_count": 149,
      "outputs": [
        {
          "output_type": "stream",
          "name": "stdout",
          "text": [
            "train_loss 2.525 val_loss 75634.548 val_acc 0.773\n",
            "train_loss 1.795 val_loss 367.510 val_acc 0.085\n",
            "train_loss 1.407 val_loss 4.925 val_acc 0.773\n",
            "train_loss 1.314 val_loss 1.321 val_acc 0.716\n",
            "train_loss 1.205 val_loss 1.602 val_acc 0.790\n",
            "train_loss 1.167 val_loss 1.033 val_acc 0.795\n",
            "train_loss 0.953 val_loss 0.877 val_acc 0.795\n",
            "train_loss 0.880 val_loss 0.743 val_acc 0.807\n",
            "train_loss 0.869 val_loss 1.083 val_acc 0.739\n",
            "train_loss 0.838 val_loss 0.762 val_acc 0.801\n",
            "train_loss 0.824 val_loss 0.950 val_acc 0.778\n",
            "train_loss 0.840 val_loss 0.821 val_acc 0.795\n",
            "train_loss 0.871 val_loss 0.849 val_acc 0.716\n",
            "train_loss 0.916 val_loss 0.927 val_acc 0.744\n",
            "train_loss 0.868 val_loss 1.025 val_acc 0.710\n"
          ]
        },
        {
          "output_type": "execute_result",
          "data": {
            "text/plain": [
              "0.8675241021388947"
            ]
          },
          "metadata": {},
          "execution_count": 149
        }
      ]
    },
    {
      "cell_type": "code",
      "source": [
        "update_optimizer(optimizer, 0.001)\n",
        "train_epocs(model, optimizer, train_dl, valid_dl, epochs=10)"
      ],
      "metadata": {
        "colab": {
          "base_uri": "https://localhost:8080/"
        },
        "id": "fw9FiuOiGSHa",
        "outputId": "dcc922ce-64ef-4b67-e730-fb388426ef41"
      },
      "execution_count": 150,
      "outputs": [
        {
          "output_type": "stream",
          "name": "stdout",
          "text": [
            "train_loss 0.842 val_loss 0.739 val_acc 0.795\n",
            "train_loss 0.844 val_loss 0.688 val_acc 0.818\n",
            "train_loss 0.803 val_loss 0.692 val_acc 0.812\n",
            "train_loss 0.790 val_loss 0.703 val_acc 0.807\n",
            "train_loss 0.791 val_loss 0.671 val_acc 0.835\n",
            "train_loss 0.788 val_loss 0.677 val_acc 0.824\n",
            "train_loss 0.758 val_loss 0.661 val_acc 0.830\n",
            "train_loss 0.731 val_loss 0.645 val_acc 0.835\n",
            "train_loss 0.727 val_loss 0.668 val_acc 0.818\n",
            "train_loss 0.728 val_loss 0.650 val_acc 0.824\n"
          ]
        },
        {
          "output_type": "execute_result",
          "data": {
            "text/plain": [
              "0.7276224198933164"
            ]
          },
          "metadata": {},
          "execution_count": 150
        }
      ]
    },
    {
      "cell_type": "code",
      "source": [
        "class_dict = {0:'speedlimit', 1:'stop', 2:'crosswalk', 3:'trafficlight'}\n",
        "sample_val_data = next(iter(valid_dl))\n",
        "linewidth = 3\n",
        "target_num = 6\n",
        "\n",
        "with torch.no_grad():\n",
        "    result = model(sample_val_data[0].cuda().float())\n",
        "\n",
        "\n",
        "def create_corner_rect(bb, color='red'):\n",
        "    bb = np.array(bb, dtype=np.float32)\n",
        "    return plt.Rectangle((bb[0], bb[1]), bb[2]-bb[0], bb[3]-bb[1], color=color,\n",
        "                         fill=False, lw=3)\n",
        "\n",
        "def show_corner_bb(im, bb):\n",
        "    plt.imshow(im)\n",
        "    plt.gca().add_patch(create_corner_rect(bb))\n",
        "\n",
        "img = ((sample_val_data[0][target_num] * torch.tensor(hparam[\"std_color\"][:3]).unsqueeze(-1).unsqueeze(-1)) + torch.tensor(hparam['mean_color'][:3]).unsqueeze(-1).unsqueeze(-1)).permute(1,2,0).numpy()\n",
        "# bbox = sample_val_data[2][target_num].int()\n",
        "bbox = result[1][target_num].int()\n",
        "print(class_dict[torch.max(result[1], 1)[1][target_num].item()])\n",
        "\n",
        "show_corner_bb(img, bbox.detach().cpu())\n",
        "\n",
        "# crop = img[bbox[1]:bbox[3], bbox[0]:bbox[2], :].clone()\n",
        "# img[bbox[1]+linewidth:bbox[3]-linewidth, bbox[0]+linewidth:bbox[2]-linewidth, :] = torch.tensor((255, 0, 0))\n",
        "# img[bbox[1]:bbox[3], bbox[0]:bbox[2], :] = crop\n",
        "\n",
        "# fig = plt.figure(figsize=(16, 8))\n",
        "# plt.subplot(1,2,1)\n",
        "# plt.imshow(crop)\n",
        "# plt.subplot(1,2,2)\n",
        "# plt.imshow(img)"
      ],
      "metadata": {
        "colab": {
          "base_uri": "https://localhost:8080/",
          "height": 287
        },
        "id": "PE7z1sJtjTeQ",
        "outputId": "989c8bcf-b307-4fdf-d3b5-71b59b9e87b1"
      },
      "execution_count": 151,
      "outputs": [
        {
          "output_type": "stream",
          "name": "stdout",
          "text": [
            "trafficlight\n"
          ]
        },
        {
          "output_type": "display_data",
          "data": {
            "image/png": "[encoded data removed]",
            "text/plain": [
              "<Figure size 432x288 with 1 Axes>"
            ]
          },
          "metadata": {
            "needs_background": "light"
          }
        }
      ]
    }
  ]
}