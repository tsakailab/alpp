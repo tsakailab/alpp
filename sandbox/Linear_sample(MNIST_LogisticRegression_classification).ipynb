{
  "nbformat": 4,
  "nbformat_minor": 0,
  "metadata": {
    "colab": {
      "name": "MNIST_LogisticRegression_classification.ipynb",
      "private_outputs": true,
      "provenance": [],
      "collapsed_sections": [],
      "include_colab_link": true
    },
    "kernelspec": {
      "name": "python3",
      "display_name": "Python 3"
    }
  },
  "cells": [
    {
      "cell_type": "markdown",
      "metadata": {
        "id": "view-in-github",
        "colab_type": "text"
      },
      "source": [
        "<a href=\"https://colab.research.google.com/github/tsakailab/iip/blob/main/sandbox/Linear_sample(MNIST_LogisticRegression_classification).ipynb\" target=\"_parent\"><img src=\"https://colab.research.google.com/assets/colab-badge.svg\" alt=\"Open In Colab\"/></a>"
      ]
    },
    {
      "cell_type": "code",
      "metadata": {
        "id": "YxG9BhBAn2nx"
      },
      "source": [
        "%matplotlib inline"
      ],
      "execution_count": null,
      "outputs": []
    },
    {
      "cell_type": "markdown",
      "metadata": {
        "id": "UTNIg2oEn2n8"
      },
      "source": [
        "\n",
        "Logistic regression of the MNIST digits dataset\n",
        "=============================================================\n"
      ]
    },
    {
      "cell_type": "markdown",
      "metadata": {
        "id": "w_x3f0OTmvtq"
      },
      "source": [
        "\n",
        "Fetch the MNIST digits dataset\n",
        "------------------------------------\n",
        "If fail, retry after rebooting the runtime or kernel."
      ]
    },
    {
      "cell_type": "code",
      "metadata": {
        "id": "DhxVf7b0dMU7",
        "cellView": "form"
      },
      "source": [
        "#@title 手書き数字データセットMNISTを読み込みます．\n",
        "#簡単のため，colabにsample_dataフォルダに用意されているファイルを使います．\n",
        "import pandas as pd\n",
        "import numpy as np\n",
        "mnist = pd.read_csv('/content/sample_data/mnist_test.csv', header=None)\n",
        "\n",
        "y_all = mnist.iloc[:,0].to_numpy()\n",
        "X_all = mnist.drop(columns=0).to_numpy().reshape(-1,28,28)\n",
        "print(\"(#images, height, width) =\", X_all.shape)\n",
        "X_all = X_all / X_all.max()\n",
        "y_all = np.int64(y_all)"
      ],
      "execution_count": null,
      "outputs": []
    },
    {
      "cell_type": "code",
      "metadata": {
        "id": "TqTCh96Ffm-1"
      },
      "source": [
        "i = 1127"
      ],
      "execution_count": null,
      "outputs": []
    },
    {
      "cell_type": "code",
      "metadata": {
        "cellView": "form",
        "id": "GBvOnfL1fo2n"
      },
      "source": [
        "#@title i 番目の手書き数字画像を表示します．\n",
        "img = X_all[i]\n",
        "print(\"Showing an image of digit\", y_all[i], \"in shape\", img.shape)\n",
        "\n",
        "import matplotlib.pyplot as plt\n",
        "plt.imshow(img, cmap='gray')\n",
        "plt.show()"
      ],
      "execution_count": null,
      "outputs": []
    },
    {
      "cell_type": "markdown",
      "metadata": {
        "id": "FWmkMoJrn2oH"
      },
      "source": [
        "Plot the data: images of digits\n",
        "-------------------------------\n"
      ]
    },
    {
      "cell_type": "code",
      "metadata": {
        "id": "E7Ib1PU2n2oK"
      },
      "source": [
        "from matplotlib import pyplot as plt\n",
        "fig = plt.figure(figsize=(6, 6))  # figure size in inches\n",
        "fig.subplots_adjust(left=0, right=1, bottom=0, top=1, hspace=0.05, wspace=0.05)\n",
        "print(\"64 out of %d images\" % len(y_all))\n",
        "\n",
        "p = np.random.randint(0, len(y_all), 64)\n",
        "for i in range(64):\n",
        "    ax = fig.add_subplot(8, 8, i + 1, xticks=[], yticks=[])\n",
        "    ax.imshow(Ximages[p[i]], cmap=plt.cm.gray)\n",
        "    # label the image with the target value\n",
        "    ax.text(0, 7, str(y_all[p[i]]), color='white')"
      ],
      "execution_count": null,
      "outputs": []
    },
    {
      "cell_type": "markdown",
      "metadata": {
        "id": "vc7EF1HS_QMb"
      },
      "source": [
        "Choose all ten classes\n",
        "-----------------------------------------------------------------\n",
        "Skip this cell for binary classification."
      ]
    },
    {
      "cell_type": "code",
      "metadata": {
        "id": "ohWRmfaW_QMc"
      },
      "source": [
        "c = 10\n",
        "lbl = range(c)\n",
        "X = X_all\n",
        "y = y_all"
      ],
      "execution_count": null,
      "outputs": []
    },
    {
      "cell_type": "markdown",
      "metadata": {
        "id": "4K4_PPXUrNUX"
      },
      "source": [
        "Split the data into training and test sets\n",
        "--------------------------------------------------\n",
        "https://scikit-learn.org/stable/modules/generated/sklearn.model_selection.train_test_split.html"
      ]
    },
    {
      "cell_type": "code",
      "metadata": {
        "id": "8wAC7L19rJWR"
      },
      "source": [
        "from sklearn.model_selection import train_test_split\n",
        "\n",
        "# split the data into training and validation sets\n",
        "X_train, X_test, y_train, y_test = train_test_split(X, y, test_size=0.2)\n",
        "if len(y_test) > 2000:\n",
        "    X_test = X_test[:2000]\n",
        "    y_test = y_test[:2000]\n",
        "X_train = X_train.reshape(X_train.shape[0], 28*28)\n",
        "X_test = X_test.reshape(X_test.shape[0], 28*28)\n",
        "print(\"(#training data, dim.)=\", X_train.shape)\n",
        "print(\"(#test data,)=\", X_test.shape)"
      ],
      "execution_count": null,
      "outputs": []
    },
    {
      "cell_type": "markdown",
      "metadata": {
        "id": "UQFrBwjAn2oS"
      },
      "source": [
        "Run the training (Caution! This will take a few minutes)\n",
        "---------------------------------\n",
        "https://scikit-learn.org/stable/modules/generated/sklearn.linear_model.LogisticRegression.html"
      ]
    },
    {
      "cell_type": "code",
      "metadata": {
        "id": "EgIqtl7Yn2oU"
      },
      "source": [
        "# train the model\n",
        "from sklearn.linear_model import LogisticRegression\n",
        "#clf = LogisticRegression(solver= 'lbfgs', multi_class='multinomial')\n",
        "clf =  LogisticRegression(C=100. / len(y_train), multi_class='multinomial', penalty='l2', solver='saga', tol=0.1)\n",
        "clf.fit(X_train, y_train)"
      ],
      "execution_count": null,
      "outputs": []
    },
    {
      "cell_type": "code",
      "metadata": {
        "id": "3aOkEZvFtNrN"
      },
      "source": [
        "# use the model to predict the labels of the test data\n",
        "predicted = clf.predict(X_test)\n",
        "expected = y_test\n",
        "\n",
        "# Plot the prediction\n",
        "fig = plt.figure(figsize=(6, 6))  # figure size in inches\n",
        "fig.subplots_adjust(left=0, right=1, bottom=0, top=1, hspace=0.05, wspace=0.05)\n",
        "\n",
        "# plot the digits\n",
        "idx64 = np.random.choice(len(y_test), 64, replace=False)\n",
        "for j in range(64):\n",
        "    i = idx64[j]\n",
        "    ax = fig.add_subplot(8, 8, j + 1, xticks=[], yticks=[])\n",
        "    ax.imshow(X_test.reshape(-1, X_all.shape[1], X_all.shape[2])[i], cmap=plt.cm.gray)\n",
        "\n",
        "    # label the image with the target value\n",
        "    ax.text(0, 7, str(lbl[expected[i]]), color='white')\n",
        "    if predicted[i] == expected[i]:\n",
        "        ax.text(21, 7, str(lbl[predicted[i]]), color='#a0ffa0')\n",
        "    else:\n",
        "        ax.text(21, 7, str(lbl[predicted[i]]), color='red')\n",
        "\n",
        "# the number of correct matches / the total number of data points\n",
        "matches = (predicted == expected)\n",
        "score = matches.sum()/float(len(matches))\n",
        "print(\"%d / %d = %2.1f %%\" % (matches.sum(), len(matches), 100*score))"
      ],
      "execution_count": null,
      "outputs": []
    },
    {
      "cell_type": "markdown",
      "metadata": {
        "id": "O5TbZ0ilIytj"
      },
      "source": [
        "Visualize the weights and classification\n",
        "-------------------------------------------------\n",
        "Retry this cell to see another result on a randomly chosen test image. "
      ]
    },
    {
      "cell_type": "code",
      "metadata": {
        "id": "gsq8EA2ezHEv"
      },
      "source": [
        "w = np.c_[clf.intercept_, clf.coef_]\n",
        "print(w.shape)\n",
        "\n",
        "# Plot the weights\n",
        "fig = plt.figure(figsize=(12, 3))  # figure size in inches\n",
        "fig.subplots_adjust(left=0, right=1, bottom=0, top=1, hspace=0.05, wspace=0.05)\n",
        "cmap = plt.cm.seismic\n",
        "\n",
        "jtest = np.random.randint(len(y_test),size=1) # draw one test sample\n",
        "vmin = w[:,1:].min()\n",
        "vmax = -vmin\n",
        "xmax=max(X_test[jtest,:].ravel())\n",
        "\n",
        "if c == 2:\n",
        "    c = 1\n",
        "for k in range(c):\n",
        "  \n",
        "    ax = fig.add_subplot(3, c, k + 1, xticks=[], yticks=[])\n",
        "    ax.imshow(w[k,1:].reshape(X_all.shape[1], X_all.shape[2]),  vmin=vmin,vmax=vmax, cmap=cmap)\n",
        "    if c == 1:\n",
        "        ax.text(0, 4, str(lbl[c]) + ' ?', color='k')\n",
        "    else:\n",
        "        ax.text(0, 4, str(lbl[k]) + ' ?', color='k')\n",
        "\n",
        "    ax = fig.add_subplot(3, c, k + c + 1, xticks=[], yticks=[])\n",
        "    ax.imshow(X_test[jtest,:].reshape(X_all.shape[1], X_all.shape[2]), cmap=plt.cm.gray)\n",
        "    ax.text(0, 7, str(lbl[expected[jtest][0]]), color='white')\n",
        "\n",
        "    wXk = X_test[jtest,:].ravel()*w[k,1:]\n",
        "    ax = fig.add_subplot(3, c, k + 2*c + 1, xticks=[], yticks=[])\n",
        "    ax.imshow(wXk.reshape(X_all.shape[1], X_all.shape[2]), vmin=vmin*xmax, vmax=vmax*xmax, cmap=cmap)\n",
        "    g = wXk.sum()+w[k,0]\n",
        "    if g >= 0:\n",
        "        color='r'\n",
        "    else:\n",
        "        color='b'\n",
        "    ax.text(0, 4, str(lbl[predicted[jtest][0]]), color=color)\n",
        "    ax.text(0, 33, '$g=$'+'{:.1f}'.format(g), fontsize=max(6+2*g,10), color=color)"
      ],
      "execution_count": null,
      "outputs": []
    },
    {
      "cell_type": "markdown",
      "metadata": {
        "id": "hBV1KmWTn2oa"
      },
      "source": [
        "Quantify the performance detail\n",
        "------------------------\n",
        "\n"
      ]
    },
    {
      "cell_type": "markdown",
      "metadata": {
        "id": "q8Q9Hvw3n2oc"
      },
      "source": [
        "Print the classification report\n",
        "\n"
      ]
    },
    {
      "cell_type": "code",
      "metadata": {
        "id": "is9z76Bdn2oe"
      },
      "source": [
        "from sklearn import metrics\n",
        "print(metrics.classification_report(expected, predicted))"
      ],
      "execution_count": null,
      "outputs": []
    },
    {
      "cell_type": "markdown",
      "metadata": {
        "id": "Bxmi8yOgn2on"
      },
      "source": [
        "Print the confusion matrix\n",
        "\n"
      ]
    },
    {
      "cell_type": "code",
      "metadata": {
        "id": "bRUeztQpn2op"
      },
      "source": [
        "import seaborn as sns\n",
        "\n",
        "# Make predictions on test data\n",
        "cm = metrics.confusion_matrix(expected, predicted)\n",
        "cm_normalized = cm.astype('float') / cm.sum(axis=1)[:, np.newaxis]\n",
        "\n",
        "plt.figure(figsize=(9,9))\n",
        "sns.heatmap(cm_normalized, annot=True, fmt=\".3f\", linewidths=.5, square = True, cmap = 'Blues_r');\n",
        "plt.ylabel('Actual label');\n",
        "plt.xlabel('Predicted label');\n",
        "all_sample_title = 'Accuracy Score: {:.3f}'.format(score) \n",
        "plt.title(all_sample_title, size = 15);"
      ],
      "execution_count": null,
      "outputs": []
    },
    {
      "cell_type": "code",
      "metadata": {
        "id": "EMMDmTLV_z3Z"
      },
      "source": [
        ""
      ],
      "execution_count": null,
      "outputs": []
    }
  ]
}