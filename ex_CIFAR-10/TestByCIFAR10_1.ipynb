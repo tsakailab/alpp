{
  "nbformat": 4,
  "nbformat_minor": 0,
  "metadata": {
    "colab": {
      "name": "TestByCIFAR10_1.ipynb",
      "provenance": [],
      "collapsed_sections": [],
      "authorship_tag": "ABX9TyOUvO68OGFSiIl1P7cRRW5F"
    },
    "kernelspec": {
      "name": "python3",
      "display_name": "Python 3"
    },
    "language_info": {
      "name": "python"
    }
  },
  "cells": [
    {
      "cell_type": "markdown",
      "source": [
        "# Test a trained model for [CIFAR-10](https://www.cs.toronto.edu/~kriz/cifar.html) dataset by [CIFAR-10.1](https://github.com/modestyachts/CIFAR-10.1) dataset\n",
        "- Copy and append the following three cells [1] [2] and [3] to the cell where your model has trained, e.g., at the end of your Jupyter notebook."
      ],
      "metadata": {
        "id": "1AT86NMmLt6M"
      }
    },
    {
      "cell_type": "code",
      "execution_count": null,
      "metadata": {
        "id": "5D7XF5ka49fF"
      },
      "outputs": [],
      "source": [
        "# [1]\n",
        "!git clone https://github.com/modestyachts/CIFAR-10.1.git"
      ]
    },
    {
      "cell_type": "markdown",
      "source": [
        "## Make a data loader `cifar101loader` in PyTorch\n",
        "- `transforms.Normalize` should be the same as that for the training dataset"
      ],
      "metadata": {
        "id": "O2z3OYvZMDSr"
      }
    },
    {
      "cell_type": "code",
      "source": [
        "# [2]\n",
        "import torch\n",
        "from torch.utils.data import Dataset\n",
        "import torchvision.transforms as transforms\n",
        "import numpy as np\n",
        "\n",
        "class CIFAR101Dataset(Dataset):\n",
        "\n",
        "    def __init__(self, transform=None):\n",
        "        self.data = np.load(\"./CIFAR-10.1/datasets/cifar10.1_v6_data.npy\")\n",
        "        self.labels = np.load(\"./CIFAR-10.1/datasets/cifar10.1_v6_labels.npy\")\n",
        "        self.transform = transform\n",
        "\n",
        "    def __getitem__(self, index):\n",
        "        if self.transform is not None:\n",
        "            return self.transform(self.data[index]), self.labels[index]\n",
        "        return self.data[index], self.labels[index]\n",
        "\n",
        "    def __len__(self):\n",
        "        return self.data.shape[0]\n",
        "\n",
        "test_transform = transforms.Compose(\n",
        "    [transforms.ToTensor(),\n",
        "     transforms.Normalize((0.5, 0.5, 0.5), (0.5, 0.5, 0.5))])\n",
        "# !!! The same normalization as to the training dataset should be applied. !!!\n",
        "\n",
        "batch_size = 32  # set as you like\n",
        "cifar101dataset = CIFAR101Dataset(transform=test_transform)\n",
        "cifar101loader = torch.utils.data.DataLoader(cifar101dataset, batch_size=batch_size, shuffle=False)"
      ],
      "metadata": {
        "id": "88bI_qca5DLv"
      },
      "execution_count": null,
      "outputs": []
    },
    {
      "cell_type": "markdown",
      "source": [
        "## Test your 'model'"
      ],
      "metadata": {
        "id": "DUjIQnVrNfp3"
      }
    },
    {
      "cell_type": "code",
      "source": [
        "# [3]\n",
        "device = torch.device(\"cuda:0\" if torch.cuda.is_available() else \"cpu\")\n",
        "\n",
        "# assumes there exists your `model` that has already been trained.\n",
        "model.eval()\n",
        "\n",
        "n_samples = 0\n",
        "preds_all = []\n",
        "labels_all = []\n",
        "for inputs, labels in cifar101loader:\n",
        "    inputs = inputs.to(device)\n",
        "    labels = labels.to(device)\n",
        "\n",
        "    # track history if only in train\n",
        "    with torch.set_grad_enabled(False):\n",
        "        outputs = model(inputs)\n",
        "\n",
        "    _, preds = torch.max(outputs, 1)\n",
        "    preds_all += preds.tolist()\n",
        "    labels_all += labels.tolist()\n",
        "print(preds_all)\n",
        "print(labels_all)\n",
        "\n",
        "\n",
        "from sklearn.metrics import confusion_matrix, classification_report\n",
        "print(classification_report(labels_all, preds_all))\n",
        "cm = confusion_matrix(labels_all, preds_all)\n",
        "print(cm)\n",
        "\n",
        "\n",
        "classes = ('plane', 'car', 'bird', 'cat',\n",
        "           'deer', 'dog', 'frog', 'horse', 'ship', 'truck')\n",
        "\n",
        "import pandas as pd\n",
        "cm_df = pd.DataFrame(cm, classes, classes)\n",
        "\n",
        "import matplotlib.pyplot as plt\n",
        "plt.figure(figsize=(12,12))\n",
        "\n",
        "import seaborn as sns\n",
        "sns.heatmap(cm_df, annot=True, fmt=\".0f\")\n",
        "\n",
        "plt.xlabel('Predicted')\n",
        "plt.xticks(rotation=45)\n",
        "plt.ylabel('True')\n",
        "plt.ioff()"
      ],
      "metadata": {
        "id": "yyafMYGfDSzw"
      },
      "execution_count": null,
      "outputs": []
    }
  ]
}